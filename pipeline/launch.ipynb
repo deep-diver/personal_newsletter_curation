{
 "cells": [
  {
   "cell_type": "markdown",
   "metadata": {
    "colab_type": "text",
    "id": "jxPMeugQ0okg"
   },
   "source": [
    "## Step 1. Set up your environment."
   ]
  },
  {
   "cell_type": "markdown",
   "metadata": {
    "colab_type": "text",
    "id": "-am1yWXt0okh"
   },
   "source": [
    "Install `tfx`, `kfp`, and `skaffold`, and add installation path to the `PATH` environment variable."
   ]
  },
  {
   "cell_type": "code",
   "execution_count": 1,
   "metadata": {
    "colab": {},
    "colab_type": "code",
    "id": "XNiqq_kN0okj"
   },
   "outputs": [
    {
     "name": "stdout",
     "output_type": "stream",
     "text": [
      "  % Total    % Received % Xferd  Average Speed   Time    Time     Time  Current\n",
      "                                 Dload  Upload   Total   Spent    Left  Speed\n",
      "100 50.1M  100 50.1M    0     0  76.2M      0 --:--:-- --:--:-- --:--:-- 76.1M\n"
     ]
    }
   ],
   "source": [
    "# Install tfx and kfp Python packages.\n",
    "import sys\n",
    "!{sys.executable} -m pip install --user --upgrade -q tfx==0.26.0\n",
    "!{sys.executable} -m pip install --user --upgrade -q kfp==1.0.0\n",
    "# Download skaffold and set it executable.\n",
    "!curl -Lo skaffold https://storage.googleapis.com/skaffold/releases/latest/skaffold-linux-amd64 && chmod +x skaffold && mv skaffold /home/jupyter/.local/bin/"
   ]
  },
  {
   "cell_type": "code",
   "execution_count": 2,
   "metadata": {
    "colab": {},
    "colab_type": "code",
    "id": "43ncix2Q0okm"
   },
   "outputs": [
    {
     "name": "stdout",
     "output_type": "stream",
     "text": [
      "env: PATH=/home/jupyter/.local/bin:/usr/local/cuda/bin:/opt/conda/bin:/opt/conda/condabin:/usr/local/bin:/usr/bin:/bin:/usr/local/games:/usr/games:/home/jupyter/.local/bin\n"
     ]
    }
   ],
   "source": [
    "# Set `PATH` to include user python binary directory and a directory containing `skaffold`.\n",
    "PATH=%env PATH\n",
    "%env PATH={PATH}:/home/jupyter/.local/bin"
   ]
  },
  {
   "cell_type": "markdown",
   "metadata": {
    "colab_type": "text",
    "id": "hX1rqpbQ0okp"
   },
   "source": [
    "Let's check the versions of TFX."
   ]
  },
  {
   "cell_type": "code",
   "execution_count": 3,
   "metadata": {
    "colab": {},
    "colab_type": "code",
    "id": "XAIoKMNG0okq"
   },
   "outputs": [
    {
     "name": "stdout",
     "output_type": "stream",
     "text": [
      "TFX version: 0.26.0\n"
     ]
    }
   ],
   "source": [
    "!python3 -c \"from tfx import version ; print('TFX version: {}'.format(version.__version__))\""
   ]
  },
  {
   "cell_type": "markdown",
   "metadata": {
    "colab_type": "text",
    "id": "_7JLpaXT0okv"
   },
   "source": [
    "In AI Platform Pipelines, TFX is running in a hosted Kubernetes environment using [Kubeflow Pipelines](https://www.kubeflow.org/docs/pipelines/overview/pipelines-overview/).\n",
    "\n",
    "Let's set some environment variables to use Kubeflow Pipelines.\n",
    "\n",
    "First, get your GCP project ID."
   ]
  },
  {
   "cell_type": "code",
   "execution_count": 4,
   "metadata": {
    "colab": {},
    "colab_type": "code",
    "id": "Hw3nsooU0okv"
   },
   "outputs": [
    {
     "name": "stdout",
     "output_type": "stream",
     "text": [
      "env: GOOGLE_CLOUD_PROJECT=gcp-ml-172005\n",
      "GCP project ID:gcp-ml-172005\n"
     ]
    }
   ],
   "source": [
    "# Read GCP project id from env.\n",
    "shell_output=!gcloud config list --format 'value(core.project)' 2>/dev/null\n",
    "GOOGLE_CLOUD_PROJECT=shell_output[0]\n",
    "%env GOOGLE_CLOUD_PROJECT={GOOGLE_CLOUD_PROJECT}\n",
    "print(\"GCP project ID:\" + GOOGLE_CLOUD_PROJECT)"
   ]
  },
  {
   "cell_type": "markdown",
   "metadata": {
    "colab_type": "text",
    "id": "A_6r4uzE0oky"
   },
   "source": [
    "We also need to access your KFP cluster. You can access it in your Google Cloud Console under \"AI Platform > Pipeline\" menu. The \"endpoint\" of the KFP cluster can be found from the URL of the Pipelines dashboard, or you can get it from the URL of the Getting Started page where you launched this notebook. Let's create an `ENDPOINT` environment variable and set it to the KFP cluster endpoint. **ENDPOINT should contain only the hostname part of the URL.** For example, if the URL of the KFP dashboard is `https://1e9deb537390ca22-dot-asia-east1.pipelines.googleusercontent.com/#/start`, ENDPOINT value becomes `1e9deb537390ca22-dot-asia-east1.pipelines.googleusercontent.com`.\n",
    "\n",
    ">**NOTE: You MUST set your ENDPOINT value below.**"
   ]
  },
  {
   "cell_type": "code",
   "execution_count": 5,
   "metadata": {
    "colab": {},
    "colab_type": "code",
    "id": "AzqEQORV0oky"
   },
   "outputs": [],
   "source": [
    "# This refers to the KFP cluster endpoint\n",
    "ENDPOINT='' # Enter your ENDPOINT here.\n",
    "if not ENDPOINT:\n",
    "    from absl import logging\n",
    "    logging.error('Set your ENDPOINT in this cell.')"
   ]
  },
  {
   "cell_type": "markdown",
   "metadata": {
    "colab_type": "text",
    "id": "K6T-KXeA0ok3"
   },
   "source": [
    "Set the image name as `tfx-pipeline` under the current GCP project."
   ]
  },
  {
   "cell_type": "code",
   "execution_count": 6,
   "metadata": {
    "colab": {},
    "colab_type": "code",
    "id": "3ztxXOVD0ok4"
   },
   "outputs": [],
   "source": [
    "# Docker image name for the pipeline image.\n",
    "CUSTOM_TFX_IMAGE='gcr.io/' + GOOGLE_CLOUD_PROJECT + '/tfx-pipeline'"
   ]
  },
  {
   "cell_type": "markdown",
   "metadata": {
    "colab_type": "text",
    "id": "TOsQbkky0ok7"
   },
   "source": [
    "And, it's done. We are ready to create a pipeline."
   ]
  },
  {
   "cell_type": "markdown",
   "metadata": {
    "colab_type": "text",
    "id": "Cxlbi1QM0ok8"
   },
   "source": [
    "## Step 2. Copy the predefined template to your project directory.\n",
    "\n",
    "In this step, we will create a working pipeline project directory and files by copying additional files from a predefined template.\n",
    "\n",
    "You may give your pipeline a different name by changing the `PIPELINE_NAME` below. This will also become the name of the project directory where your files will be put."
   ]
  },
  {
   "cell_type": "code",
   "execution_count": 7,
   "metadata": {
    "colab": {},
    "colab_type": "code",
    "id": "cIPlt-700ok-"
   },
   "outputs": [],
   "source": [
    "PIPELINE_NAME=\"imdb_pipeline\"\n",
    "import os\n",
    "PROJECT_DIR=os.path.join(os.path.expanduser(\"~\"),\"imported\",PIPELINE_NAME)"
   ]
  },
  {
   "cell_type": "markdown",
   "metadata": {
    "colab_type": "text",
    "id": "ozHIomcd0olB"
   },
   "source": [
    "TFX includes the `taxi` template with the TFX python package. If you are planning to solve a point-wise prediction problem, including classification and regresssion, this template could be used as a starting point.\n",
    "\n",
    "The `tfx template copy` CLI command copies predefined template files into your project directory."
   ]
  },
  {
   "cell_type": "markdown",
   "metadata": {
    "colab_type": "text",
    "id": "yxOT19QS0olH"
   },
   "source": [
    "Change the working directory context in this notebook to the project directory."
   ]
  },
  {
   "cell_type": "code",
   "execution_count": 8,
   "metadata": {
    "colab": {},
    "colab_type": "code",
    "id": "6P-HljcU0olI"
   },
   "outputs": [
    {
     "name": "stdout",
     "output_type": "stream",
     "text": [
      "/home/jupyter/imported/imdb_pipeline\n"
     ]
    }
   ],
   "source": [
    "%cd {PROJECT_DIR}"
   ]
  },
  {
   "cell_type": "markdown",
   "metadata": {
    "colab_type": "text",
    "id": "1tEYUQxH0olO"
   },
   "source": [
    ">NOTE: Don't forget to change directory in `File Browser` on the left by clicking into the project directory once it is created."
   ]
  },
  {
   "cell_type": "markdown",
   "metadata": {
    "colab_type": "text",
    "id": "dWMBXU510olp"
   },
   "source": [
    "## Step 6. Add components for training.\n",
    "\n",
    "In this step, you will add components for training and model validation including `Transform`, `Trainer`, `ResolverNode`, `Evaluator`, and `Pusher`.\n",
    "\n",
    ">**Double-click to open `pipeline.py`**. Find and uncomment the 5 lines which add `Transform`, `Trainer`, `ResolverNode`, `Evaluator` and `Pusher` to the pipeline. (Tip: search for `TODO(step 6):`)\n",
    "\n",
    "As you did before, you now need to update the existing pipeline with the modified pipeline definition. The instructions are the same as Step 5. Update the pipeline using `tfx pipeline update`, and create an execution run using `tfx run create`."
   ]
  },
  {
   "cell_type": "code",
   "execution_count": 16,
   "metadata": {},
   "outputs": [
    {
     "name": "stdout",
     "output_type": "stream",
     "text": [
      "2021-02-18 00:31:42.456619: W tensorflow/stream_executor/platform/default/dso_loader.cc:59] Could not load dynamic library 'libcudart.so.10.1'; dlerror: libcudart.so.10.1: cannot open shared object file: No such file or directory; LD_LIBRARY_PATH: /usr/local/cuda/lib64:/usr/local/nccl2/lib:/usr/local/cuda/extras/CUPTI/lib64\n",
      "2021-02-18 00:31:42.456668: I tensorflow/stream_executor/cuda/cudart_stub.cc:29] Ignore above cudart dlerror if you do not have a GPU set up on your machine.\n",
      "CLI\n",
      "Creating pipeline\n",
      "Detected Kubeflow.\n",
      "Use --engine flag if you intend to use a different orchestrator.\n",
      "Reading build spec from build.yaml\n",
      "Target image gcr.io/gcp-ml-172005/tfx-pipeline is not used. If the build spec is provided, update the target image in the build spec file build.yaml.\n",
      "[Skaffold] Generating tags...\n",
      "[Skaffold]  - gcr.io/gcp-ml-172005/tfx-pipeline -> gcr.io/gcp-ml-172005/tfx-pipeline:latest\n",
      "[Skaffold] Checking cache...\n",
      "[Skaffold]  - gcr.io/gcp-ml-172005/tfx-pipeline: Not found. Building\n",
      "[Skaffold] Building [gcr.io/gcp-ml-172005/tfx-pipeline]...\n",
      "[Skaffold] Sending build context to Docker daemon   2.13MB\n",
      "[Skaffold] Step 1/5 : FROM tensorflow/tfx:0.26.0\n",
      "[Skaffold]  ---> 3230796f5988\n",
      "[Skaffold] Step 2/5 : WORKDIR /pipeline\n",
      "[Skaffold]  ---> Using cache\n",
      "[Skaffold]  ---> 3ddb1c5a4fb3\n",
      "[Skaffold] Step 3/5 : COPY ./ ./\n",
      "[Skaffold]  ---> 39a36861a9f0\n",
      "[Skaffold] Step 4/5 : ENV PYTHONPATH=\"/pipeline:${PYTHONPATH}\"\n",
      "[Skaffold]  ---> Running in 4be7042de7cf\n",
      "[Skaffold] Removing intermediate container 4be7042de7cf\n",
      "[Skaffold]  ---> 66e2b772071b\n",
      "[Skaffold] Step 5/5 : RUN pip install tensorflow-text tensorflow_ranking\n",
      "[Skaffold]  ---> Running in fe841219ccd2\n",
      "[Skaffold] Collecting tensorflow-text\n",
      "[Skaffold]   Downloading tensorflow_text-2.4.3-cp37-cp37m-manylinux1_x86_64.whl (3.4 MB)\n",
      "[Skaffold] Collecting tensorflow_ranking\n",
      "[Skaffold]   Downloading tensorflow_ranking-0.3.3-py2.py3-none-any.whl (109 kB)\n",
      "[Skaffold] Collecting tensorflow<2.5,>=2.4.0\n",
      "[Skaffold]   Downloading tensorflow-2.4.1-cp37-cp37m-manylinux2010_x86_64.whl (394.3 MB)\n",
      "[Skaffold] Requirement already satisfied: tensorflow-hub>=0.8.0 in /usr/local/lib/python3.7/dist-packages (from tensorflow-text) (0.9.0)\n",
      "[Skaffold] Requirement already satisfied: absl-py>=0.1.6 in /usr/local/lib/python3.7/dist-packages (from tensorflow_ranking) (0.10.0)\n",
      "[Skaffold] Requirement already satisfied: numpy>=1.13.3 in /usr/local/lib/python3.7/dist-packages (from tensorflow_ranking) (1.19.5)\n",
      "[Skaffold] Requirement already satisfied: tensorflow-serving-api<3.0.0,>=2.0.0 in /usr/local/lib/python3.7/dist-packages (from tensorflow_ranking) (2.3.0)\n",
      "[Skaffold] Requirement already satisfied: six>=1.10.0 in /usr/local/lib/python3.7/dist-packages (from tensorflow_ranking) (1.15.0)\n",
      "[Skaffold] Collecting tf-models-official>=2.4.0\n",
      "[Skaffold]   Downloading tf_models_official-2.4.0-py2.py3-none-any.whl (1.1 MB)\n",
      "[Skaffold] Collecting tensorflow-estimator<2.5.0,>=2.4.0\n",
      "[Skaffold]   Using cached tensorflow_estimator-2.4.0-py2.py3-none-any.whl (462 kB)\n",
      "[Skaffold] Requirement already satisfied: gast==0.3.3 in /usr/local/lib/python3.7/dist-packages (from tensorflow<2.5,>=2.4.0->tensorflow-text) (0.3.3)\n",
      "[Skaffold] Requirement already satisfied: typing-extensions~=3.7.4 in /usr/local/lib/python3.7/dist-packages (from tensorflow<2.5,>=2.4.0->tensorflow-text) (3.7.4.3)\n",
      "[Skaffold] Requirement already satisfied: keras-preprocessing~=1.1.2 in /usr/local/lib/python3.7/dist-packages (from tensorflow<2.5,>=2.4.0->tensorflow-text) (1.1.2)\n",
      "[Skaffold] Requirement already satisfied: astunparse~=1.6.3 in /usr/local/lib/python3.7/dist-packages (from tensorflow<2.5,>=2.4.0->tensorflow-text) (1.6.3)\n",
      "[Skaffold] Requirement already satisfied: grpcio~=1.32.0 in /usr/local/lib/python3.7/dist-packages (from tensorflow<2.5,>=2.4.0->tensorflow-text) (1.32.0)\n",
      "[Skaffold] Requirement already satisfied: google-pasta~=0.2 in /usr/local/lib/python3.7/dist-packages (from tensorflow<2.5,>=2.4.0->tensorflow-text) (0.2.0)\n",
      "[Skaffold] Requirement already satisfied: opt-einsum~=3.3.0 in /usr/local/lib/python3.7/dist-packages (from tensorflow<2.5,>=2.4.0->tensorflow-text) (3.3.0)\n",
      "[Skaffold] Requirement already satisfied: h5py~=2.10.0 in /usr/local/lib/python3.7/dist-packages (from tensorflow<2.5,>=2.4.0->tensorflow-text) (2.10.0)\n",
      "[Skaffold] Requirement already satisfied: protobuf>=3.9.2 in /usr/local/lib/python3.7/dist-packages (from tensorflow<2.5,>=2.4.0->tensorflow-text) (3.14.0)\n",
      "[Skaffold] Requirement already satisfied: tensorboard~=2.4 in /usr/local/lib/python3.7/dist-packages (from tensorflow<2.5,>=2.4.0->tensorflow-text) (2.4.0)\n",
      "[Skaffold] Requirement already satisfied: termcolor~=1.1.0 in /usr/local/lib/python3.7/dist-packages (from tensorflow<2.5,>=2.4.0->tensorflow-text) (1.1.0)\n",
      "[Skaffold] Requirement already satisfied: flatbuffers~=1.12.0 in /usr/local/lib/python3.7/dist-packages (from tensorflow<2.5,>=2.4.0->tensorflow-text) (1.12)\n",
      "[Skaffold] Requirement already satisfied: wheel~=0.35 in /usr/local/lib/python3.7/dist-packages (from tensorflow<2.5,>=2.4.0->tensorflow-text) (0.36.2)\n",
      "[Skaffold] Requirement already satisfied: wrapt~=1.12.1 in /usr/local/lib/python3.7/dist-packages (from tensorflow<2.5,>=2.4.0->tensorflow-text) (1.12.1)\n",
      "[Skaffold] Collecting gin-config\n",
      "[Skaffold]   Downloading gin_config-0.4.0-py2.py3-none-any.whl (46 kB)\n",
      "[Skaffold] Requirement already satisfied: tensorflow-datasets in /usr/local/lib/python3.7/dist-packages (from tf-models-official>=2.4.0->tensorflow_ranking) (3.0.0)\n",
      "[Skaffold] Collecting py-cpuinfo>=3.3.0\n",
      "[Skaffold]   Downloading py-cpuinfo-7.0.0.tar.gz (95 kB)\n",
      "[Skaffold] Collecting Cython\n",
      "[Skaffold]   Downloading Cython-0.29.21-cp37-cp37m-manylinux1_x86_64.whl (2.0 MB)\n",
      "[Skaffold] Collecting tensorflow-addons\n",
      "[Skaffold]   Downloading tensorflow_addons-0.12.1-cp37-cp37m-manylinux2010_x86_64.whl (703 kB)\n",
      "[Skaffold] Collecting kaggle>=1.3.9\n",
      "[Skaffold]   Downloading kaggle-1.5.10.tar.gz (59 kB)\n",
      "[Skaffold] Collecting psutil>=5.4.3\n",
      "[Skaffold]   Downloading psutil-5.8.0-cp37-cp37m-manylinux2010_x86_64.whl (296 kB)\n",
      "[Skaffold] Requirement already satisfied: google-cloud-bigquery>=0.31.0 in /usr/local/lib/python3.7/dist-packages (from tf-models-official>=2.4.0->tensorflow_ranking) (1.28.0)\n",
      "[Skaffold] Collecting Pillow\n",
      "[Skaffold]   Downloading Pillow-8.1.0-cp37-cp37m-manylinux1_x86_64.whl (2.2 MB)\n",
      "[Skaffold] Requirement already satisfied: google-api-python-client>=1.6.7 in /usr/local/lib/python3.7/dist-packages (from tf-models-official>=2.4.0->tensorflow_ranking) (1.8.0)\n",
      "[Skaffold] Collecting tensorflow-model-optimization>=0.4.1\n",
      "[Skaffold]   Downloading tensorflow_model_optimization-0.5.0-py2.py3-none-any.whl (172 kB)\n",
      "[Skaffold] Collecting seqeval\n",
      "[Skaffold]   Downloading seqeval-1.2.2.tar.gz (43 kB)\n",
      "[Skaffold] Collecting tf-slim>=1.1.0\n",
      "[Skaffold]   Downloading tf_slim-1.1.0-py2.py3-none-any.whl (352 kB)\n",
      "[Skaffold] Requirement already satisfied: oauth2client in /usr/local/lib/python3.7/dist-packages (from tf-models-official>=2.4.0->tensorflow_ranking) (4.1.3)\n",
      "[Skaffold] Requirement already satisfied: scipy>=0.19.1 in /usr/local/lib/python3.7/dist-packages (from tf-models-official>=2.4.0->tensorflow_ranking) (1.6.0)\n",
      "[Skaffold] Collecting sentencepiece\n",
      "[Skaffold]   Downloading sentencepiece-0.1.95-cp37-cp37m-manylinux2014_x86_64.whl (1.2 MB)\n",
      "[Skaffold] Requirement already satisfied: pandas>=0.22.0 in /usr/local/lib/python3.7/dist-packages (from tf-models-official>=2.4.0->tensorflow_ranking) (1.2.0)\n",
      "[Skaffold] Collecting matplotlib\n",
      "[Skaffold]   Downloading matplotlib-3.3.4-cp37-cp37m-manylinux1_x86_64.whl (11.5 MB)\n",
      "[Skaffold] Collecting pyyaml>=5.1\n",
      "[Skaffold]   Downloading PyYAML-5.4.1-cp37-cp37m-manylinux1_x86_64.whl (636 kB)\n",
      "[Skaffold] Collecting dataclasses\n",
      "[Skaffold]   Downloading dataclasses-0.6-py3-none-any.whl (14 kB)\n",
      "[Skaffold] Collecting pycocotools\n",
      "[Skaffold]   Downloading pycocotools-2.0.2.tar.gz (23 kB)\n",
      "[Skaffold] Collecting opencv-python-headless\n",
      "[Skaffold]   Downloading opencv_python_headless-4.5.1.48-cp37-cp37m-manylinux2014_x86_64.whl (37.6 MB)\n",
      "[Skaffold] Requirement already satisfied: setuptools>=41.0.0 in /usr/local/lib/python3.7/dist-packages (from tensorboard~=2.4->tensorflow<2.5,>=2.4.0->tensorflow-text) (49.2.0)\n",
      "[Skaffold] Requirement already satisfied: werkzeug>=0.11.15 in /usr/local/lib/python3.7/dist-packages (from tensorboard~=2.4->tensorflow<2.5,>=2.4.0->tensorflow-text) (1.0.1)\n",
      "[Skaffold] Requirement already satisfied: requests<3,>=2.21.0 in /usr/local/lib/python3.7/dist-packages (from tensorboard~=2.4->tensorflow<2.5,>=2.4.0->tensorflow-text) (2.25.1)\n",
      "[Skaffold] Requirement already satisfied: google-auth<2,>=1.6.3 in /usr/local/lib/python3.7/dist-packages (from tensorboard~=2.4->tensorflow<2.5,>=2.4.0->tensorflow-text) (1.24.0)\n",
      "[Skaffold] Requirement already satisfied: google-auth-oauthlib<0.5,>=0.4.1 in /usr/local/lib/python3.7/dist-packages (from tensorboard~=2.4->tensorflow<2.5,>=2.4.0->tensorflow-text) (0.4.2)\n",
      "[Skaffold] Requirement already satisfied: markdown>=2.6.8 in /usr/local/lib/python3.7/dist-packages (from tensorboard~=2.4->tensorflow<2.5,>=2.4.0->tensorflow-text) (3.3.3)\n",
      "[Skaffold] Requirement already satisfied: tensorboard-plugin-wit>=1.6.0 in /usr/local/lib/python3.7/dist-packages (from tensorboard~=2.4->tensorflow<2.5,>=2.4.0->tensorflow-text) (1.7.0)\n",
      "[Skaffold] Requirement already satisfied: dill in /usr/local/lib/python3.7/dist-packages (from tensorflow-datasets->tf-models-official>=2.4.0->tensorflow_ranking) (0.3.1.1)\n",
      "[Skaffold] Requirement already satisfied: tensorflow-metadata in /usr/local/lib/python3.7/dist-packages (from tensorflow-datasets->tf-models-official>=2.4.0->tensorflow_ranking) (0.26.0)\n",
      "[Skaffold] Requirement already satisfied: tqdm in /usr/local/lib/python3.7/dist-packages (from tensorflow-datasets->tf-models-official>=2.4.0->tensorflow_ranking) (4.55.1)\n",
      "[Skaffold] Requirement already satisfied: attrs>=18.1.0 in /usr/local/lib/python3.7/dist-packages (from tensorflow-datasets->tf-models-official>=2.4.0->tensorflow_ranking) (20.3.0)\n",
      "[Skaffold] Requirement already satisfied: future in /usr/local/lib/python3.7/dist-packages (from tensorflow-datasets->tf-models-official>=2.4.0->tensorflow_ranking) (0.18.2)\n",
      "[Skaffold] Requirement already satisfied: promise in /usr/local/lib/python3.7/dist-packages (from tensorflow-datasets->tf-models-official>=2.4.0->tensorflow_ranking) (2.3)\n",
      "[Skaffold] Collecting typeguard>=2.7\n",
      "[Skaffold]   Downloading typeguard-2.11.1-py3-none-any.whl (16 kB)\n",
      "[Skaffold] Requirement already satisfied: certifi in /usr/local/lib/python3.7/dist-packages (from kaggle>=1.3.9->tf-models-official>=2.4.0->tensorflow_ranking) (2020.12.5)\n",
      "[Skaffold] Requirement already satisfied: python-dateutil in /usr/local/lib/python3.7/dist-packages (from kaggle>=1.3.9->tf-models-official>=2.4.0->tensorflow_ranking) (2.8.1)\n",
      "[Skaffold] Collecting python-slugify\n",
      "[Skaffold]   Downloading python-slugify-4.0.1.tar.gz (11 kB)\n",
      "[Skaffold] Requirement already satisfied: urllib3 in /usr/local/lib/python3.7/dist-packages (from kaggle>=1.3.9->tf-models-official>=2.4.0->tensorflow_ranking) (1.26.2)\n",
      "[Skaffold] Requirement already satisfied: google-cloud-core<2.0dev,>=1.4.1 in /usr/local/lib/python3.7/dist-packages (from google-cloud-bigquery>=0.31.0->tf-models-official>=2.4.0->tensorflow_ranking) (1.5.0)\n",
      "[Skaffold] Requirement already satisfied: google-resumable-media<2.0dev,>=0.6.0 in /usr/local/lib/python3.7/dist-packages (from google-cloud-bigquery>=0.31.0->tf-models-official>=2.4.0->tensorflow_ranking) (1.2.0)\n",
      "[Skaffold] Requirement already satisfied: google-api-core<2.0dev,>=1.21.0 in /usr/local/lib/python3.7/dist-packages (from google-cloud-bigquery>=0.31.0->tf-models-official>=2.4.0->tensorflow_ranking) (1.24.1)\n",
      "[Skaffold] Requirement already satisfied: httplib2<1dev,>=0.9.2 in /usr/local/lib/python3.7/dist-packages (from google-api-python-client>=1.6.7->tf-models-official>=2.4.0->tensorflow_ranking) (0.18.1)\n",
      "[Skaffold] Requirement already satisfied: google-auth-httplib2>=0.0.3 in /usr/local/lib/python3.7/dist-packages (from google-api-python-client>=1.6.7->tf-models-official>=2.4.0->tensorflow_ranking) (0.0.4)\n",
      "[Skaffold] Requirement already satisfied: uritemplate<4dev,>=3.0.0 in /usr/local/lib/python3.7/dist-packages (from google-api-python-client>=1.6.7->tf-models-official>=2.4.0->tensorflow_ranking) (3.0.1)\n",
      "[Skaffold] Collecting dm-tree~=0.1.1\n",
      "[Skaffold]   Downloading dm_tree-0.1.5-cp37-cp37m-manylinux1_x86_64.whl (294 kB)\n",
      "[Skaffold] Requirement already satisfied: scikit-learn>=0.21.3 in /usr/local/lib/python3.7/dist-packages (from seqeval->tf-models-official>=2.4.0->tensorflow_ranking) (0.24.0)\n",
      "[Skaffold] Requirement already satisfied: rsa>=3.1.4 in /usr/local/lib/python3.7/dist-packages (from oauth2client->tf-models-official>=2.4.0->tensorflow_ranking) (4.6)\n",
      "[Skaffold] Requirement already satisfied: pyasn1>=0.1.7 in /usr/local/lib/python3.7/dist-packages (from oauth2client->tf-models-official>=2.4.0->tensorflow_ranking) (0.4.8)\n",
      "[Skaffold] Requirement already satisfied: pyasn1-modules>=0.0.5 in /usr/local/lib/python3.7/dist-packages (from oauth2client->tf-models-official>=2.4.0->tensorflow_ranking) (0.2.8)\n",
      "[Skaffold] Requirement already satisfied: pytz>=2017.3 in /usr/local/lib/python3.7/dist-packages (from pandas>=0.22.0->tf-models-official>=2.4.0->tensorflow_ranking) (2020.5)\n",
      "[Skaffold] Requirement already satisfied: pyparsing!=2.0.4,!=2.1.2,!=2.1.6,>=2.0.3 in /usr/local/lib/python3.7/dist-packages (from matplotlib->tf-models-official>=2.4.0->tensorflow_ranking) (2.4.7)\n",
      "[Skaffold] Collecting cycler>=0.10\n",
      "[Skaffold]   Downloading cycler-0.10.0-py2.py3-none-any.whl (6.5 kB)\n",
      "[Skaffold] Collecting kiwisolver>=1.0.1\n",
      "[Skaffold]   Downloading kiwisolver-1.3.1-cp37-cp37m-manylinux1_x86_64.whl (1.1 MB)\n",
      "[Skaffold] Requirement already satisfied: chardet<5,>=3.0.2 in /usr/local/lib/python3.7/dist-packages (from requests<3,>=2.21.0->tensorboard~=2.4->tensorflow<2.5,>=2.4.0->tensorflow-text) (4.0.0)\n",
      "[Skaffold] Requirement already satisfied: idna<3,>=2.5 in /usr/local/lib/python3.7/dist-packages (from requests<3,>=2.21.0->tensorboard~=2.4->tensorflow<2.5,>=2.4.0->tensorflow-text) (2.10)\n",
      "[Skaffold] Requirement already satisfied: cachetools<5.0,>=2.0.0 in /usr/local/lib/python3.7/dist-packages (from google-auth<2,>=1.6.3->tensorboard~=2.4->tensorflow<2.5,>=2.4.0->tensorflow-text) (4.2.0)\n",
      "[Skaffold] Requirement already satisfied: requests-oauthlib>=0.7.0 in /usr/local/lib/python3.7/dist-packages (from google-auth-oauthlib<0.5,>=0.4.1->tensorboard~=2.4->tensorflow<2.5,>=2.4.0->tensorflow-text) (1.3.0)\n",
      "[Skaffold] Requirement already satisfied: importlib-metadata; python_version < \"3.8\" in /usr/local/lib/python3.7/dist-packages (from markdown>=2.6.8->tensorboard~=2.4->tensorflow<2.5,>=2.4.0->tensorflow-text) (3.3.0)\n",
      "[Skaffold] Requirement already satisfied: googleapis-common-protos<2,>=1.52.0 in /usr/local/lib/python3.7/dist-packages (from tensorflow-metadata->tensorflow-datasets->tf-models-official>=2.4.0->tensorflow_ranking) (1.52.0)\n",
      "[Skaffold] Collecting text-unidecode>=1.3\n",
      "[Skaffold]   Downloading text_unidecode-1.3-py2.py3-none-any.whl (78 kB)\n",
      "[Skaffold] Requirement already satisfied: google-crc32c<2.0dev,>=1.0; python_version >= \"3.5\" in /usr/local/lib/python3.7/dist-packages (from google-resumable-media<2.0dev,>=0.6.0->google-cloud-bigquery>=0.31.0->tf-models-official>=2.4.0->tensorflow_ranking) (1.1.0)\n",
      "[Skaffold] Requirement already satisfied: threadpoolctl>=2.0.0 in /usr/local/lib/python3.7/dist-packages (from scikit-learn>=0.21.3->seqeval->tf-models-official>=2.4.0->tensorflow_ranking) (2.1.0)\n",
      "[Skaffold] Requirement already satisfied: joblib>=0.11 in /usr/local/lib/python3.7/dist-packages (from scikit-learn>=0.21.3->seqeval->tf-models-official>=2.4.0->tensorflow_ranking) (0.14.1)\n",
      "[Skaffold] Requirement already satisfied: oauthlib>=3.0.0 in /usr/local/lib/python3.7/dist-packages (from requests-oauthlib>=0.7.0->google-auth-oauthlib<0.5,>=0.4.1->tensorboard~=2.4->tensorflow<2.5,>=2.4.0->tensorflow-text) (3.1.0)\n",
      "[Skaffold] Requirement already satisfied: zipp>=0.5 in /usr/local/lib/python3.7/dist-packages (from importlib-metadata; python_version < \"3.8\"->markdown>=2.6.8->tensorboard~=2.4->tensorflow<2.5,>=2.4.0->tensorflow-text) (3.4.0)\n",
      "[Skaffold] Requirement already satisfied: cffi>=1.0.0 in /usr/local/lib/python3.7/dist-packages (from google-crc32c<2.0dev,>=1.0; python_version >= \"3.5\"->google-resumable-media<2.0dev,>=0.6.0->google-cloud-bigquery>=0.31.0->tf-models-official>=2.4.0->tensorflow_ranking) (1.14.4)\n",
      "[Skaffold] Requirement already satisfied: pycparser in /usr/local/lib/python3.7/dist-packages (from cffi>=1.0.0->google-crc32c<2.0dev,>=1.0; python_version >= \"3.5\"->google-resumable-media<2.0dev,>=0.6.0->google-cloud-bigquery>=0.31.0->tf-models-official>=2.4.0->tensorflow_ranking) (2.20)\n",
      "[Skaffold] Building wheels for collected packages: py-cpuinfo, kaggle, seqeval, pycocotools, python-slugify\n",
      "[Skaffold]   Building wheel for py-cpuinfo (setup.py): started\n",
      "[Skaffold]   Building wheel for py-cpuinfo (setup.py): finished with status 'done'\n",
      "[Skaffold]   Created wheel for py-cpuinfo: filename=py_cpuinfo-7.0.0-py3-none-any.whl size=20070 sha256=30f933abf74cec56eefdd9abca5b270edb728dedc6f0f6daec9d1be8d828df1f\n",
      "[Skaffold]   Stored in directory: /root/.cache/pip/wheels/d7/59/0d/58c5e576d9192261fa3da00466eebe6f7a1ac1873a7ab1f2ce\n",
      "[Skaffold]   Building wheel for kaggle (setup.py): started\n",
      "[Skaffold]   Building wheel for kaggle (setup.py): finished with status 'done'\n",
      "[Skaffold]   Created wheel for kaggle: filename=kaggle-1.5.10-py3-none-any.whl size=73268 sha256=9d7e5ff6e97523064daff499be050f101553e57f63f811c6f9b63db86bdbf44a\n",
      "[Skaffold]   Stored in directory: /root/.cache/pip/wheels/ea/c5/fe/7e7fb5b3d1f150fac96188949b3d83d375a4c9df16ba557e52\n",
      "[Skaffold]   Building wheel for seqeval (setup.py): started\n",
      "[Skaffold]   Building wheel for seqeval (setup.py): finished with status 'done'\n",
      "[Skaffold]   Created wheel for seqeval: filename=seqeval-1.2.2-py3-none-any.whl size=16170 sha256=f751b03b1927a9a2da3b463e1199f2e071dec6d854097e44896542cf22e78be8\n",
      "[Skaffold]   Stored in directory: /root/.cache/pip/wheels/05/96/ee/7cac4e74f3b19e3158dce26a20a1c86b3533c43ec72a549fd7\n",
      "[Skaffold]   Building wheel for pycocotools (setup.py): started\n",
      "[Skaffold]   Building wheel for pycocotools (setup.py): finished with status 'done'\n",
      "[Skaffold]   Created wheel for pycocotools: filename=pycocotools-2.0.2-cp37-cp37m-linux_x86_64.whl size=243162 sha256=61eb69e812b58851b6892a1254605f9f3999c24231ea06818547bab7736e983c\n",
      "[Skaffold]   Stored in directory: /root/.cache/pip/wheels/bc/cf/1b/e95c99c5f9d1648be3f500ca55e7ce55f24818b0f48336adaf\n",
      "[Skaffold]   Building wheel for python-slugify (setup.py): started\n",
      "[Skaffold]   Building wheel for python-slugify (setup.py): finished with status 'done'\n",
      "[Skaffold]   Created wheel for python-slugify: filename=python_slugify-4.0.1-py2.py3-none-any.whl size=6769 sha256=0f3339ccd4303d59bb772800962799b550fc3f7f741127182c9f8b399fa62868\n",
      "[Skaffold]   Stored in directory: /root/.cache/pip/wheels/48/1b/6f/5c1cfab22eacbe0095fc619786da6571b55253653c71324b5c\n",
      "[Skaffold] Successfully built py-cpuinfo kaggle seqeval pycocotools python-slugify\n",
      "[Skaffold] Installing collected packages: tensorflow-estimator, tensorflow, tensorflow-text, gin-config, py-cpuinfo, Cython, typeguard, tensorflow-addons, text-unidecode, python-slugify, kaggle, psutil, Pillow, dm-tree, tensorflow-model-optimization, seqeval, tf-slim, sentencepiece, cycler, kiwisolver, matplotlib, pyyaml, dataclasses, pycocotools, opencv-python-headless, tf-models-official, tensorflow-ranking\n",
      "[Skaffold]   Attempting uninstall: tensorflow-estimator\n",
      "[Skaffold]     Found existing installation: tensorflow-estimator 2.3.0\n",
      "[Skaffold]     Uninstalling tensorflow-estimator-2.3.0:\n",
      "[Skaffold]       Successfully uninstalled tensorflow-estimator-2.3.0\n",
      "[Skaffold]   Attempting uninstall: tensorflow\n",
      "[Skaffold]     Found existing installation: tensorflow 2.3.2\n",
      "[Skaffold]     Uninstalling tensorflow-2.3.2:\n",
      "[Skaffold]       Successfully uninstalled tensorflow-2.3.2\n",
      "[Skaffold]   Attempting uninstall: pyyaml\n",
      "[Skaffold]     Found existing installation: PyYAML 3.13\n",
      "[Skaffold]     Uninstalling PyYAML-3.13:\n",
      "[Skaffold]       Successfully uninstalled PyYAML-3.13\n",
      "[Skaffold] Successfully installed Cython-0.29.21 Pillow-8.1.0 cycler-0.10.0 dataclasses-0.6 dm-tree-0.1.5 gin-config-0.4.0 kaggle-1.5.10 kiwisolver-1.3.1 matplotlib-3.3.4 opencv-python-headless-4.5.1.48 psutil-5.8.0 py-cpuinfo-7.0.0 pycocotools-2.0.2 python-slugify-4.0.1 pyyaml-5.4.1 sentencepiece-0.1.95 seqeval-1.2.2 tensorflow-2.4.1 tensorflow-addons-0.12.1 tensorflow-estimator-2.4.0 tensorflow-model-optimization-0.5.0 tensorflow-ranking-0.3.3 tensorflow-text-2.4.3 text-unidecode-1.3 tf-models-official-2.4.0 tf-slim-1.1.0 typeguard-2.11.1\n",
      "[Skaffold] \u001b[91mERROR: After October 2020 you may experience errors when installing or updating packages. This is because pip will change the way that it resolves dependency conflicts.\n",
      "[Skaffold] \n",
      "[Skaffold] We recommend you use --use-feature=2020-resolver to test your packages with the new resolver before it becomes the default.\n",
      "[Skaffold] \n",
      "[Skaffold] tfx 0.26.0 requires tensorflow!=2.0.*,!=2.1.*,!=2.2.*,!=2.4.*,<3,>=1.15.2, but you'll have tensorflow 2.4.1 which is incompatible.\n",
      "[Skaffold] tfx-bsl 0.26.1 requires tensorflow!=2.0.*,!=2.1.*,!=2.2.*,!=2.4.*,<3,>=1.15.2, but you'll have tensorflow 2.4.1 which is incompatible.\n",
      "[Skaffold] tensorflow-transform 0.26.0 requires tensorflow!=2.0.*,!=2.1.*,!=2.2.*,<2.4,>=1.15.2, but you'll have tensorflow 2.4.1 which is incompatible.\n",
      "[Skaffold] tensorflow-model-analysis 0.26.0 requires tensorflow!=2.0.*,!=2.1.*,!=2.2.*,!=2.4.*,<3,>=1.15.2, but you'll have tensorflow 2.4.1 which is incompatible.\n",
      "[Skaffold] tensorflow-data-validation 0.26.0 requires tensorflow!=2.0.*,!=2.1.*,!=2.2.*,!=2.4.*,<3,>=1.15.2, but you'll have tensorflow 2.4.1 which is incompatible.\n",
      "[Skaffold] kubernetes 10.1.0 requires pyyaml~=3.12, but you'll have pyyaml 5.4.1 which is incompatible.\n",
      "[Skaffold] \u001b[0m\u001b[91mWARNING: You are using pip version 20.2; however, version 21.0.1 is available.\n",
      "[Skaffold] You should consider upgrading via the '/usr/bin/python3 -m pip install --upgrade pip' command.\n",
      "[Skaffold] \u001b[0mRemoving intermediate container fe841219ccd2\n",
      "[Skaffold]  ---> b818716e3c65\n",
      "[Skaffold] Successfully built b818716e3c65\n",
      "[Skaffold] Successfully tagged gcr.io/gcp-ml-172005/tfx-pipeline:latest\n",
      "[Skaffold] The push refers to repository [gcr.io/gcp-ml-172005/tfx-pipeline]\n",
      "[Skaffold] a468c7315808: Preparing\n",
      "[Skaffold] e0074a81a10a: Preparing\n",
      "[Skaffold] 0359e5914c61: Preparing\n",
      "[Skaffold] 23b988d0a368: Preparing\n",
      "[Skaffold] a0fdd9e79e13: Preparing\n",
      "[Skaffold] 7ed3e18de502: Preparing\n",
      "[Skaffold] fd335a0d8c48: Preparing\n",
      "[Skaffold] 7d985a940d09: Preparing\n",
      "[Skaffold] 4058ae03fa32: Preparing\n",
      "[Skaffold] e3437c61d457: Preparing\n",
      "[Skaffold] 84ff92691f90: Preparing\n",
      "[Skaffold] 54b00d861a7a: Preparing\n",
      "[Skaffold] c547358928ab: Preparing\n",
      "[Skaffold] 84ff92691f90: Preparing\n",
      "[Skaffold] c4e66be694ce: Preparing\n",
      "[Skaffold] 47cc65c6dd57: Preparing\n",
      "[Skaffold] fd335a0d8c48: Waiting\n",
      "[Skaffold] e3437c61d457: Waiting\n",
      "[Skaffold] 84ff92691f90: Waiting\n",
      "[Skaffold] 54b00d861a7a: Waiting\n",
      "[Skaffold] c547358928ab: Waiting\n",
      "[Skaffold] c4e66be694ce: Waiting\n",
      "[Skaffold] 7ed3e18de502: Waiting\n",
      "[Skaffold] 7d985a940d09: Waiting\n",
      "[Skaffold] 47cc65c6dd57: Waiting\n",
      "[Skaffold] 4058ae03fa32: Waiting\n",
      "[Skaffold] 23b988d0a368: Layer already exists\n",
      "[Skaffold] 0359e5914c61: Layer already exists\n",
      "[Skaffold] a0fdd9e79e13: Layer already exists\n",
      "[Skaffold] 7ed3e18de502: Layer already exists\n",
      "[Skaffold] fd335a0d8c48: Layer already exists\n",
      "[Skaffold] 7d985a940d09: Layer already exists\n",
      "[Skaffold] 4058ae03fa32: Layer already exists\n",
      "[Skaffold] 84ff92691f90: Layer already exists\n",
      "[Skaffold] e3437c61d457: Layer already exists\n",
      "[Skaffold] 54b00d861a7a: Layer already exists\n",
      "[Skaffold] c4e66be694ce: Layer already exists\n",
      "[Skaffold] c547358928ab: Layer already exists\n",
      "[Skaffold] 47cc65c6dd57: Layer already exists\n",
      "[Skaffold] e0074a81a10a: Pushed\n",
      "[Skaffold] a468c7315808: Pushed\n",
      "[Skaffold] latest: digest: sha256:ca637ff9d6558e73ec2e0c535d6aaefc23f94e3409a181e78e20bd2b91924881 size: 3693\n",
      "New container image is built. Target image is available in the build spec file.\n",
      "kubeflow runner not found in dsl.\n"
     ]
    }
   ],
   "source": [
    "!tfx pipeline create  \\\n",
    "--pipeline-path=kubeflow_runner.py \\\n",
    "--endpoint={ENDPOINT} \\\n",
    "--build-target-image={CUSTOM_TFX_IMAGE}"
   ]
  },
  {
   "cell_type": "code",
   "execution_count": 17,
   "metadata": {},
   "outputs": [
    {
     "name": "stdout",
     "output_type": "stream",
     "text": [
      "2021-02-18 00:34:44.280012: W tensorflow/stream_executor/platform/default/dso_loader.cc:59] Could not load dynamic library 'libcudart.so.10.1'; dlerror: libcudart.so.10.1: cannot open shared object file: No such file or directory; LD_LIBRARY_PATH: /usr/local/cuda/lib64:/usr/local/nccl2/lib:/usr/local/cuda/extras/CUPTI/lib64\n",
      "2021-02-18 00:34:44.280064: I tensorflow/stream_executor/cuda/cudart_stub.cc:29] Ignore above cudart dlerror if you do not have a GPU set up on your machine.\n",
      "CLI\n",
      "Creating a run for pipeline: nlp-pipeline2\n",
      "Detected Kubeflow.\n",
      "Use --engine flag if you intend to use a different orchestrator.\n",
      "Pipeline \"nlp-pipeline2\" does not exist.\n"
     ]
    }
   ],
   "source": [
    "!tfx run create --pipeline-name {PIPELINE_NAME} --endpoint={ENDPOINT}"
   ]
  },
  {
   "source": [
    "## In case you want to update your pipeline"
   ],
   "cell_type": "markdown",
   "metadata": {}
  },
  {
   "cell_type": "code",
   "execution_count": 18,
   "metadata": {
    "colab": {},
    "colab_type": "code",
    "id": "VQDNitkH0olq"
   },
   "outputs": [
    {
     "name": "stdout",
     "output_type": "stream",
     "text": [
      "2021-02-18 00:39:07.106396: W tensorflow/stream_executor/platform/default/dso_loader.cc:59] Could not load dynamic library 'libcudart.so.10.1'; dlerror: libcudart.so.10.1: cannot open shared object file: No such file or directory; LD_LIBRARY_PATH: /usr/local/cuda/lib64:/usr/local/nccl2/lib:/usr/local/cuda/extras/CUPTI/lib64\n",
      "2021-02-18 00:39:07.106449: I tensorflow/stream_executor/cuda/cudart_stub.cc:29] Ignore above cudart dlerror if you do not have a GPU set up on your machine.\n",
      "CLI\n",
      "Updating pipeline\n",
      "Detected Kubeflow.\n",
      "Use --engine flag if you intend to use a different orchestrator.\n",
      "Reading build spec from build.yaml\n",
      "[Skaffold] Generating tags...\n",
      "[Skaffold]  - gcr.io/gcp-ml-172005/tfx-pipeline -> gcr.io/gcp-ml-172005/tfx-pipeline:latest\n",
      "[Skaffold] Checking cache...\n",
      "[Skaffold]  - gcr.io/gcp-ml-172005/tfx-pipeline: Not found. Building\n",
      "[Skaffold] Building [gcr.io/gcp-ml-172005/tfx-pipeline]...\n",
      "[Skaffold] Sending build context to Docker daemon   2.13MB\n",
      "[Skaffold] Step 1/5 : FROM tensorflow/tfx:0.26.0\n",
      "[Skaffold]  ---> 3230796f5988\n",
      "[Skaffold] Step 2/5 : WORKDIR /pipeline\n",
      "[Skaffold]  ---> Using cache\n",
      "[Skaffold]  ---> 3ddb1c5a4fb3\n",
      "[Skaffold] Step 3/5 : COPY ./ ./\n",
      "[Skaffold]  ---> fadd4eb36633\n",
      "[Skaffold] Step 4/5 : ENV PYTHONPATH=\"/pipeline:${PYTHONPATH}\"\n",
      "[Skaffold]  ---> Running in e247fd56631c\n",
      "[Skaffold] Removing intermediate container e247fd56631c\n",
      "[Skaffold]  ---> 1af321960504\n",
      "[Skaffold] Step 5/5 : RUN pip install tensorflow-text tensorflow_ranking\n",
      "[Skaffold]  ---> Running in 415326fd6ab0\n",
      "[Skaffold] Collecting tensorflow-text\n",
      "[Skaffold]   Downloading tensorflow_text-2.4.3-cp37-cp37m-manylinux1_x86_64.whl (3.4 MB)\n",
      "[Skaffold] Collecting tensorflow_ranking\n",
      "[Skaffold]   Downloading tensorflow_ranking-0.3.3-py2.py3-none-any.whl (109 kB)\n",
      "[Skaffold] Requirement already satisfied: tensorflow-hub>=0.8.0 in /usr/local/lib/python3.7/dist-packages (from tensorflow-text) (0.9.0)\n",
      "[Skaffold] Collecting tensorflow<2.5,>=2.4.0\n",
      "[Skaffold]   Downloading tensorflow-2.4.1-cp37-cp37m-manylinux2010_x86_64.whl (394.3 MB)\n",
      "[Skaffold] Requirement already satisfied: absl-py>=0.1.6 in /usr/local/lib/python3.7/dist-packages (from tensorflow_ranking) (0.10.0)\n",
      "[Skaffold] Collecting tf-models-official>=2.4.0\n",
      "[Skaffold]   Downloading tf_models_official-2.4.0-py2.py3-none-any.whl (1.1 MB)\n",
      "[Skaffold] Requirement already satisfied: tensorflow-serving-api<3.0.0,>=2.0.0 in /usr/local/lib/python3.7/dist-packages (from tensorflow_ranking) (2.3.0)\n",
      "[Skaffold] Requirement already satisfied: six>=1.10.0 in /usr/local/lib/python3.7/dist-packages (from tensorflow_ranking) (1.15.0)\n",
      "[Skaffold] Requirement already satisfied: numpy>=1.13.3 in /usr/local/lib/python3.7/dist-packages (from tensorflow_ranking) (1.19.5)\n",
      "[Skaffold] Requirement already satisfied: protobuf>=3.8.0 in /usr/local/lib/python3.7/dist-packages (from tensorflow-hub>=0.8.0->tensorflow-text) (3.14.0)\n",
      "[Skaffold] Requirement already satisfied: wheel~=0.35 in /usr/local/lib/python3.7/dist-packages (from tensorflow<2.5,>=2.4.0->tensorflow-text) (0.36.2)\n",
      "[Skaffold] Requirement already satisfied: astunparse~=1.6.3 in /usr/local/lib/python3.7/dist-packages (from tensorflow<2.5,>=2.4.0->tensorflow-text) (1.6.3)\n",
      "[Skaffold] Requirement already satisfied: typing-extensions~=3.7.4 in /usr/local/lib/python3.7/dist-packages (from tensorflow<2.5,>=2.4.0->tensorflow-text) (3.7.4.3)\n",
      "[Skaffold] Requirement already satisfied: wrapt~=1.12.1 in /usr/local/lib/python3.7/dist-packages (from tensorflow<2.5,>=2.4.0->tensorflow-text) (1.12.1)\n",
      "[Skaffold] Requirement already satisfied: tensorboard~=2.4 in /usr/local/lib/python3.7/dist-packages (from tensorflow<2.5,>=2.4.0->tensorflow-text) (2.4.0)\n",
      "[Skaffold] Requirement already satisfied: gast==0.3.3 in /usr/local/lib/python3.7/dist-packages (from tensorflow<2.5,>=2.4.0->tensorflow-text) (0.3.3)\n",
      "[Skaffold] Requirement already satisfied: google-pasta~=0.2 in /usr/local/lib/python3.7/dist-packages (from tensorflow<2.5,>=2.4.0->tensorflow-text) (0.2.0)\n",
      "[Skaffold] Collecting tensorflow-estimator<2.5.0,>=2.4.0\n",
      "[Skaffold]   Using cached tensorflow_estimator-2.4.0-py2.py3-none-any.whl (462 kB)\n",
      "[Skaffold] Requirement already satisfied: grpcio~=1.32.0 in /usr/local/lib/python3.7/dist-packages (from tensorflow<2.5,>=2.4.0->tensorflow-text) (1.32.0)\n",
      "[Skaffold] Requirement already satisfied: keras-preprocessing~=1.1.2 in /usr/local/lib/python3.7/dist-packages (from tensorflow<2.5,>=2.4.0->tensorflow-text) (1.1.2)\n",
      "[Skaffold] Requirement already satisfied: termcolor~=1.1.0 in /usr/local/lib/python3.7/dist-packages (from tensorflow<2.5,>=2.4.0->tensorflow-text) (1.1.0)\n",
      "[Skaffold] Requirement already satisfied: h5py~=2.10.0 in /usr/local/lib/python3.7/dist-packages (from tensorflow<2.5,>=2.4.0->tensorflow-text) (2.10.0)\n",
      "[Skaffold] Requirement already satisfied: opt-einsum~=3.3.0 in /usr/local/lib/python3.7/dist-packages (from tensorflow<2.5,>=2.4.0->tensorflow-text) (3.3.0)\n",
      "[Skaffold] Requirement already satisfied: flatbuffers~=1.12.0 in /usr/local/lib/python3.7/dist-packages (from tensorflow<2.5,>=2.4.0->tensorflow-text) (1.12)\n",
      "[Skaffold] Requirement already satisfied: tensorflow-datasets in /usr/local/lib/python3.7/dist-packages (from tf-models-official>=2.4.0->tensorflow_ranking) (3.0.0)\n",
      "[Skaffold] Collecting opencv-python-headless\n",
      "[Skaffold]   Downloading opencv_python_headless-4.5.1.48-cp37-cp37m-manylinux2014_x86_64.whl (37.6 MB)\n",
      "[Skaffold] Collecting seqeval\n",
      "[Skaffold]   Downloading seqeval-1.2.2.tar.gz (43 kB)\n",
      "[Skaffold] Collecting kaggle>=1.3.9\n",
      "[Skaffold]   Downloading kaggle-1.5.10.tar.gz (59 kB)\n",
      "[Skaffold] Collecting pyyaml>=5.1\n",
      "[Skaffold]   Downloading PyYAML-5.4.1-cp37-cp37m-manylinux1_x86_64.whl (636 kB)\n",
      "[Skaffold] Requirement already satisfied: google-cloud-bigquery>=0.31.0 in /usr/local/lib/python3.7/dist-packages (from tf-models-official>=2.4.0->tensorflow_ranking) (1.28.0)\n",
      "[Skaffold] Collecting Pillow\n",
      "[Skaffold]   Downloading Pillow-8.1.0-cp37-cp37m-manylinux1_x86_64.whl (2.2 MB)\n",
      "[Skaffold] Collecting py-cpuinfo>=3.3.0\n",
      "[Skaffold]   Downloading py-cpuinfo-7.0.0.tar.gz (95 kB)\n",
      "[Skaffold] Collecting Cython\n",
      "[Skaffold]   Downloading Cython-0.29.21-cp37-cp37m-manylinux1_x86_64.whl (2.0 MB)\n",
      "[Skaffold] Requirement already satisfied: pandas>=0.22.0 in /usr/local/lib/python3.7/dist-packages (from tf-models-official>=2.4.0->tensorflow_ranking) (1.2.0)\n",
      "[Skaffold] Collecting pycocotools\n",
      "[Skaffold]   Downloading pycocotools-2.0.2.tar.gz (23 kB)\n",
      "[Skaffold] Requirement already satisfied: oauth2client in /usr/local/lib/python3.7/dist-packages (from tf-models-official>=2.4.0->tensorflow_ranking) (4.1.3)\n",
      "[Skaffold] Collecting dataclasses\n",
      "[Skaffold]   Downloading dataclasses-0.6-py3-none-any.whl (14 kB)\n",
      "[Skaffold] Collecting gin-config\n",
      "[Skaffold]   Downloading gin_config-0.4.0-py2.py3-none-any.whl (46 kB)\n",
      "[Skaffold] Collecting matplotlib\n",
      "[Skaffold]   Downloading matplotlib-3.3.4-cp37-cp37m-manylinux1_x86_64.whl (11.5 MB)\n",
      "[Skaffold] Collecting tf-slim>=1.1.0\n",
      "[Skaffold]   Downloading tf_slim-1.1.0-py2.py3-none-any.whl (352 kB)\n",
      "[Skaffold] Collecting tensorflow-addons\n",
      "[Skaffold]   Downloading tensorflow_addons-0.12.1-cp37-cp37m-manylinux2010_x86_64.whl (703 kB)\n",
      "[Skaffold] Collecting tensorflow-model-optimization>=0.4.1\n",
      "[Skaffold]   Downloading tensorflow_model_optimization-0.5.0-py2.py3-none-any.whl (172 kB)\n",
      "[Skaffold] Requirement already satisfied: scipy>=0.19.1 in /usr/local/lib/python3.7/dist-packages (from tf-models-official>=2.4.0->tensorflow_ranking) (1.6.0)\n",
      "[Skaffold] Requirement already satisfied: google-api-python-client>=1.6.7 in /usr/local/lib/python3.7/dist-packages (from tf-models-official>=2.4.0->tensorflow_ranking) (1.8.0)\n",
      "[Skaffold] Collecting sentencepiece\n",
      "[Skaffold]   Downloading sentencepiece-0.1.95-cp37-cp37m-manylinux2014_x86_64.whl (1.2 MB)\n",
      "[Skaffold] Collecting psutil>=5.4.3\n",
      "[Skaffold]   Downloading psutil-5.8.0-cp37-cp37m-manylinux2010_x86_64.whl (296 kB)\n",
      "[Skaffold] Requirement already satisfied: setuptools>=41.0.0 in /usr/local/lib/python3.7/dist-packages (from tensorboard~=2.4->tensorflow<2.5,>=2.4.0->tensorflow-text) (49.2.0)\n",
      "[Skaffold] Requirement already satisfied: google-auth-oauthlib<0.5,>=0.4.1 in /usr/local/lib/python3.7/dist-packages (from tensorboard~=2.4->tensorflow<2.5,>=2.4.0->tensorflow-text) (0.4.2)\n",
      "[Skaffold] Requirement already satisfied: google-auth<2,>=1.6.3 in /usr/local/lib/python3.7/dist-packages (from tensorboard~=2.4->tensorflow<2.5,>=2.4.0->tensorflow-text) (1.24.0)\n",
      "[Skaffold] Requirement already satisfied: requests<3,>=2.21.0 in /usr/local/lib/python3.7/dist-packages (from tensorboard~=2.4->tensorflow<2.5,>=2.4.0->tensorflow-text) (2.25.1)\n",
      "[Skaffold] Requirement already satisfied: tensorboard-plugin-wit>=1.6.0 in /usr/local/lib/python3.7/dist-packages (from tensorboard~=2.4->tensorflow<2.5,>=2.4.0->tensorflow-text) (1.7.0)\n",
      "[Skaffold] Requirement already satisfied: werkzeug>=0.11.15 in /usr/local/lib/python3.7/dist-packages (from tensorboard~=2.4->tensorflow<2.5,>=2.4.0->tensorflow-text) (1.0.1)\n",
      "[Skaffold] Requirement already satisfied: markdown>=2.6.8 in /usr/local/lib/python3.7/dist-packages (from tensorboard~=2.4->tensorflow<2.5,>=2.4.0->tensorflow-text) (3.3.3)\n",
      "[Skaffold] Requirement already satisfied: future in /usr/local/lib/python3.7/dist-packages (from tensorflow-datasets->tf-models-official>=2.4.0->tensorflow_ranking) (0.18.2)\n",
      "[Skaffold] Requirement already satisfied: dill in /usr/local/lib/python3.7/dist-packages (from tensorflow-datasets->tf-models-official>=2.4.0->tensorflow_ranking) (0.3.1.1)\n",
      "[Skaffold] Requirement already satisfied: tensorflow-metadata in /usr/local/lib/python3.7/dist-packages (from tensorflow-datasets->tf-models-official>=2.4.0->tensorflow_ranking) (0.26.0)\n",
      "[Skaffold] Requirement already satisfied: promise in /usr/local/lib/python3.7/dist-packages (from tensorflow-datasets->tf-models-official>=2.4.0->tensorflow_ranking) (2.3)\n",
      "[Skaffold] Requirement already satisfied: attrs>=18.1.0 in /usr/local/lib/python3.7/dist-packages (from tensorflow-datasets->tf-models-official>=2.4.0->tensorflow_ranking) (20.3.0)\n",
      "[Skaffold] Requirement already satisfied: tqdm in /usr/local/lib/python3.7/dist-packages (from tensorflow-datasets->tf-models-official>=2.4.0->tensorflow_ranking) (4.55.1)\n",
      "[Skaffold] Requirement already satisfied: scikit-learn>=0.21.3 in /usr/local/lib/python3.7/dist-packages (from seqeval->tf-models-official>=2.4.0->tensorflow_ranking) (0.24.0)\n",
      "[Skaffold] Requirement already satisfied: certifi in /usr/local/lib/python3.7/dist-packages (from kaggle>=1.3.9->tf-models-official>=2.4.0->tensorflow_ranking) (2020.12.5)\n",
      "[Skaffold] Requirement already satisfied: python-dateutil in /usr/local/lib/python3.7/dist-packages (from kaggle>=1.3.9->tf-models-official>=2.4.0->tensorflow_ranking) (2.8.1)\n",
      "[Skaffold] Collecting python-slugify\n",
      "[Skaffold]   Downloading python-slugify-4.0.1.tar.gz (11 kB)\n",
      "[Skaffold] Requirement already satisfied: urllib3 in /usr/local/lib/python3.7/dist-packages (from kaggle>=1.3.9->tf-models-official>=2.4.0->tensorflow_ranking) (1.26.2)\n",
      "[Skaffold] Requirement already satisfied: google-resumable-media<2.0dev,>=0.6.0 in /usr/local/lib/python3.7/dist-packages (from google-cloud-bigquery>=0.31.0->tf-models-official>=2.4.0->tensorflow_ranking) (1.2.0)\n",
      "[Skaffold] Requirement already satisfied: google-cloud-core<2.0dev,>=1.4.1 in /usr/local/lib/python3.7/dist-packages (from google-cloud-bigquery>=0.31.0->tf-models-official>=2.4.0->tensorflow_ranking) (1.5.0)\n",
      "[Skaffold] Requirement already satisfied: google-api-core<2.0dev,>=1.21.0 in /usr/local/lib/python3.7/dist-packages (from google-cloud-bigquery>=0.31.0->tf-models-official>=2.4.0->tensorflow_ranking) (1.24.1)\n",
      "[Skaffold] Requirement already satisfied: pytz>=2017.3 in /usr/local/lib/python3.7/dist-packages (from pandas>=0.22.0->tf-models-official>=2.4.0->tensorflow_ranking) (2020.5)\n",
      "[Skaffold] Requirement already satisfied: pyasn1-modules>=0.0.5 in /usr/local/lib/python3.7/dist-packages (from oauth2client->tf-models-official>=2.4.0->tensorflow_ranking) (0.2.8)\n",
      "[Skaffold] Requirement already satisfied: rsa>=3.1.4 in /usr/local/lib/python3.7/dist-packages (from oauth2client->tf-models-official>=2.4.0->tensorflow_ranking) (4.6)\n",
      "[Skaffold] Requirement already satisfied: httplib2>=0.9.1 in /usr/local/lib/python3.7/dist-packages (from oauth2client->tf-models-official>=2.4.0->tensorflow_ranking) (0.18.1)\n",
      "[Skaffold] Requirement already satisfied: pyasn1>=0.1.7 in /usr/local/lib/python3.7/dist-packages (from oauth2client->tf-models-official>=2.4.0->tensorflow_ranking) (0.4.8)\n",
      "[Skaffold] Collecting kiwisolver>=1.0.1\n",
      "[Skaffold]   Downloading kiwisolver-1.3.1-cp37-cp37m-manylinux1_x86_64.whl (1.1 MB)\n",
      "[Skaffold] Requirement already satisfied: pyparsing!=2.0.4,!=2.1.2,!=2.1.6,>=2.0.3 in /usr/local/lib/python3.7/dist-packages (from matplotlib->tf-models-official>=2.4.0->tensorflow_ranking) (2.4.7)\n",
      "[Skaffold] Collecting cycler>=0.10\n",
      "[Skaffold]   Downloading cycler-0.10.0-py2.py3-none-any.whl (6.5 kB)\n",
      "[Skaffold] Collecting typeguard>=2.7\n",
      "[Skaffold]   Downloading typeguard-2.11.1-py3-none-any.whl (16 kB)\n",
      "[Skaffold] Collecting dm-tree~=0.1.1\n",
      "[Skaffold]   Downloading dm_tree-0.1.5-cp37-cp37m-manylinux1_x86_64.whl (294 kB)\n",
      "[Skaffold] Requirement already satisfied: google-auth-httplib2>=0.0.3 in /usr/local/lib/python3.7/dist-packages (from google-api-python-client>=1.6.7->tf-models-official>=2.4.0->tensorflow_ranking) (0.0.4)\n",
      "[Skaffold] Requirement already satisfied: uritemplate<4dev,>=3.0.0 in /usr/local/lib/python3.7/dist-packages (from google-api-python-client>=1.6.7->tf-models-official>=2.4.0->tensorflow_ranking) (3.0.1)\n",
      "[Skaffold] Requirement already satisfied: requests-oauthlib>=0.7.0 in /usr/local/lib/python3.7/dist-packages (from google-auth-oauthlib<0.5,>=0.4.1->tensorboard~=2.4->tensorflow<2.5,>=2.4.0->tensorflow-text) (1.3.0)\n",
      "[Skaffold] Requirement already satisfied: cachetools<5.0,>=2.0.0 in /usr/local/lib/python3.7/dist-packages (from google-auth<2,>=1.6.3->tensorboard~=2.4->tensorflow<2.5,>=2.4.0->tensorflow-text) (4.2.0)\n",
      "[Skaffold] Requirement already satisfied: idna<3,>=2.5 in /usr/local/lib/python3.7/dist-packages (from requests<3,>=2.21.0->tensorboard~=2.4->tensorflow<2.5,>=2.4.0->tensorflow-text) (2.10)\n",
      "[Skaffold] Requirement already satisfied: chardet<5,>=3.0.2 in /usr/local/lib/python3.7/dist-packages (from requests<3,>=2.21.0->tensorboard~=2.4->tensorflow<2.5,>=2.4.0->tensorflow-text) (4.0.0)\n",
      "[Skaffold] Requirement already satisfied: importlib-metadata; python_version < \"3.8\" in /usr/local/lib/python3.7/dist-packages (from markdown>=2.6.8->tensorboard~=2.4->tensorflow<2.5,>=2.4.0->tensorflow-text) (3.3.0)\n",
      "[Skaffold] Requirement already satisfied: googleapis-common-protos<2,>=1.52.0 in /usr/local/lib/python3.7/dist-packages (from tensorflow-metadata->tensorflow-datasets->tf-models-official>=2.4.0->tensorflow_ranking) (1.52.0)\n",
      "[Skaffold] Requirement already satisfied: threadpoolctl>=2.0.0 in /usr/local/lib/python3.7/dist-packages (from scikit-learn>=0.21.3->seqeval->tf-models-official>=2.4.0->tensorflow_ranking) (2.1.0)\n",
      "[Skaffold] Requirement already satisfied: joblib>=0.11 in /usr/local/lib/python3.7/dist-packages (from scikit-learn>=0.21.3->seqeval->tf-models-official>=2.4.0->tensorflow_ranking) (0.14.1)\n",
      "[Skaffold] Collecting text-unidecode>=1.3\n",
      "[Skaffold]   Downloading text_unidecode-1.3-py2.py3-none-any.whl (78 kB)\n",
      "[Skaffold] Requirement already satisfied: google-crc32c<2.0dev,>=1.0; python_version >= \"3.5\" in /usr/local/lib/python3.7/dist-packages (from google-resumable-media<2.0dev,>=0.6.0->google-cloud-bigquery>=0.31.0->tf-models-official>=2.4.0->tensorflow_ranking) (1.1.0)\n",
      "[Skaffold] Requirement already satisfied: oauthlib>=3.0.0 in /usr/local/lib/python3.7/dist-packages (from requests-oauthlib>=0.7.0->google-auth-oauthlib<0.5,>=0.4.1->tensorboard~=2.4->tensorflow<2.5,>=2.4.0->tensorflow-text) (3.1.0)\n",
      "[Skaffold] Requirement already satisfied: zipp>=0.5 in /usr/local/lib/python3.7/dist-packages (from importlib-metadata; python_version < \"3.8\"->markdown>=2.6.8->tensorboard~=2.4->tensorflow<2.5,>=2.4.0->tensorflow-text) (3.4.0)\n",
      "[Skaffold] Requirement already satisfied: cffi>=1.0.0 in /usr/local/lib/python3.7/dist-packages (from google-crc32c<2.0dev,>=1.0; python_version >= \"3.5\"->google-resumable-media<2.0dev,>=0.6.0->google-cloud-bigquery>=0.31.0->tf-models-official>=2.4.0->tensorflow_ranking) (1.14.4)\n",
      "[Skaffold] Requirement already satisfied: pycparser in /usr/local/lib/python3.7/dist-packages (from cffi>=1.0.0->google-crc32c<2.0dev,>=1.0; python_version >= \"3.5\"->google-resumable-media<2.0dev,>=0.6.0->google-cloud-bigquery>=0.31.0->tf-models-official>=2.4.0->tensorflow_ranking) (2.20)\n",
      "[Skaffold] Building wheels for collected packages: seqeval, kaggle, py-cpuinfo, pycocotools, python-slugify\n",
      "[Skaffold]   Building wheel for seqeval (setup.py): started\n",
      "[Skaffold]   Building wheel for seqeval (setup.py): finished with status 'done'\n",
      "[Skaffold]   Created wheel for seqeval: filename=seqeval-1.2.2-py3-none-any.whl size=16170 sha256=2c184db6cc200ecafd250897bd8178f33a00052e0da35c46e52ae280657f2542\n",
      "[Skaffold]   Stored in directory: /root/.cache/pip/wheels/05/96/ee/7cac4e74f3b19e3158dce26a20a1c86b3533c43ec72a549fd7\n",
      "[Skaffold]   Building wheel for kaggle (setup.py): started\n",
      "[Skaffold]   Building wheel for kaggle (setup.py): finished with status 'done'\n",
      "[Skaffold]   Created wheel for kaggle: filename=kaggle-1.5.10-py3-none-any.whl size=73268 sha256=5b02d4dde3fee6504da9badb92c7cec65b3be5b2b47492817081b8b2b2f0df99\n",
      "[Skaffold]   Stored in directory: /root/.cache/pip/wheels/ea/c5/fe/7e7fb5b3d1f150fac96188949b3d83d375a4c9df16ba557e52\n",
      "[Skaffold]   Building wheel for py-cpuinfo (setup.py): started\n",
      "[Skaffold]   Building wheel for py-cpuinfo (setup.py): finished with status 'done'\n",
      "[Skaffold]   Created wheel for py-cpuinfo: filename=py_cpuinfo-7.0.0-py3-none-any.whl size=20070 sha256=4dca24bb0d0142ac2f556b86eead5e1b8dc7b7d8c82c930c04e151aaca29d744\n",
      "[Skaffold]   Stored in directory: /root/.cache/pip/wheels/d7/59/0d/58c5e576d9192261fa3da00466eebe6f7a1ac1873a7ab1f2ce\n",
      "[Skaffold]   Building wheel for pycocotools (setup.py): started\n",
      "[Skaffold]   Building wheel for pycocotools (setup.py): finished with status 'done'\n",
      "[Skaffold]   Created wheel for pycocotools: filename=pycocotools-2.0.2-cp37-cp37m-linux_x86_64.whl size=243163 sha256=3128b1dcbfe80c697aa0b9f34902a0a30fa8c0aeaf1e045aeca6efd41aa28386\n",
      "[Skaffold]   Stored in directory: /root/.cache/pip/wheels/bc/cf/1b/e95c99c5f9d1648be3f500ca55e7ce55f24818b0f48336adaf\n",
      "[Skaffold]   Building wheel for python-slugify (setup.py): started\n",
      "[Skaffold]   Building wheel for python-slugify (setup.py): finished with status 'done'\n",
      "[Skaffold]   Created wheel for python-slugify: filename=python_slugify-4.0.1-py2.py3-none-any.whl size=6769 sha256=156e529cff76836f66c70b9d50e2fae34790769a914c49941dbdaec8a39d6363\n",
      "[Skaffold]   Stored in directory: /root/.cache/pip/wheels/48/1b/6f/5c1cfab22eacbe0095fc619786da6571b55253653c71324b5c\n",
      "[Skaffold] Successfully built seqeval kaggle py-cpuinfo pycocotools python-slugify\n",
      "[Skaffold] Installing collected packages: tensorflow-estimator, tensorflow, tensorflow-text, opencv-python-headless, seqeval, text-unidecode, python-slugify, kaggle, pyyaml, Pillow, py-cpuinfo, Cython, kiwisolver, cycler, matplotlib, pycocotools, dataclasses, gin-config, tf-slim, typeguard, tensorflow-addons, dm-tree, tensorflow-model-optimization, sentencepiece, psutil, tf-models-official, tensorflow-ranking\n",
      "[Skaffold]   Attempting uninstall: tensorflow-estimator\n",
      "[Skaffold]     Found existing installation: tensorflow-estimator 2.3.0\n",
      "[Skaffold]     Uninstalling tensorflow-estimator-2.3.0:\n",
      "[Skaffold]       Successfully uninstalled tensorflow-estimator-2.3.0\n",
      "[Skaffold]   Attempting uninstall: tensorflow\n",
      "[Skaffold]     Found existing installation: tensorflow 2.3.2\n",
      "[Skaffold]     Uninstalling tensorflow-2.3.2:\n",
      "[Skaffold]       Successfully uninstalled tensorflow-2.3.2\n",
      "[Skaffold]   Attempting uninstall: pyyaml\n",
      "[Skaffold]     Found existing installation: PyYAML 3.13\n",
      "[Skaffold]     Uninstalling PyYAML-3.13:\n",
      "[Skaffold]       Successfully uninstalled PyYAML-3.13\n",
      "[Skaffold] \u001b[91mERROR: After October 2020 you may experience errors when installing or updating packages. This is because pip will change the way that it resolves dependency conflicts.\n",
      "[Skaffold] \n",
      "[Skaffold] We recommend you use --use-feature=2020-resolver to test your packages with the new resolver before it becomes the default.\n",
      "[Skaffold] \n",
      "[Skaffold] tfx 0.26.0 requires tensorflow!=2.0.*,!=2.1.*,!=2.2.*,!=2.4.*,<3,>=1.15.2, but you'll have tensorflow 2.4.1 which is incompatible.\n",
      "[Skaffold] tfx-bsl 0.26.1 requires tensorflow!=2.0.*,!=2.1.*,!=2.2.*,!=2.4.*,<3,>=1.15.2, but you'll have tensorflow 2.4.1 which is incompatible.\n",
      "[Skaffold] tensorflow-transform 0.26.0 requires tensorflow!=2.0.*,!=2.1.*,!=2.2.*,<2.4,>=1.15.2, but you'll have tensorflow 2.4.1 which is incompatible.\n",
      "[Skaffold] tensorflow-model-analysis 0.26.0 requires tensorflow!=2.0.*,!=2.1.*,!=2.2.*,!=2.4.*,<3,>=1.15.2, but you'll have tensorflow 2.4.1 which is incompatible.\n",
      "[Skaffold] tensorflow-data-validation 0.26.0 requires tensorflow!=2.0.*,!=2.1.*,!=2.2.*,!=2.4.*,<3,>=1.15.2, but you'll have tensorflow 2.4.1 which is incompatible.\n",
      "[Skaffold] kubernetes 10.1.0 requires pyyaml~=3.12, but you'll have pyyaml 5.4.1 which is incompatible.\n",
      "[Skaffold] \u001b[0mSuccessfully installed Cython-0.29.21 Pillow-8.1.0 cycler-0.10.0 dataclasses-0.6 dm-tree-0.1.5 gin-config-0.4.0 kaggle-1.5.10 kiwisolver-1.3.1 matplotlib-3.3.4 opencv-python-headless-4.5.1.48 psutil-5.8.0 py-cpuinfo-7.0.0 pycocotools-2.0.2 python-slugify-4.0.1 pyyaml-5.4.1 sentencepiece-0.1.95 seqeval-1.2.2 tensorflow-2.4.1 tensorflow-addons-0.12.1 tensorflow-estimator-2.4.0 tensorflow-model-optimization-0.5.0 tensorflow-ranking-0.3.3 tensorflow-text-2.4.3 text-unidecode-1.3 tf-models-official-2.4.0 tf-slim-1.1.0 typeguard-2.11.1\n",
      "[Skaffold] \u001b[91mWARNING: You are using pip version 20.2; however, version 21.0.1 is available.\n",
      "[Skaffold] You should consider upgrading via the '/usr/bin/python3 -m pip install --upgrade pip' command.\n",
      "[Skaffold] \u001b[0mRemoving intermediate container 415326fd6ab0\n",
      "[Skaffold]  ---> ff48f1b1f420\n",
      "[Skaffold] Successfully built ff48f1b1f420\n",
      "[Skaffold] Successfully tagged gcr.io/gcp-ml-172005/tfx-pipeline:latest\n",
      "[Skaffold] The push refers to repository [gcr.io/gcp-ml-172005/tfx-pipeline]\n",
      "[Skaffold] e20c4460c8c2: Preparing\n",
      "[Skaffold] 8ee0a2a93118: Preparing\n",
      "[Skaffold] 0359e5914c61: Preparing\n",
      "[Skaffold] 23b988d0a368: Preparing\n",
      "[Skaffold] a0fdd9e79e13: Preparing\n",
      "[Skaffold] 7ed3e18de502: Preparing\n",
      "[Skaffold] fd335a0d8c48: Preparing\n",
      "[Skaffold] 7d985a940d09: Preparing\n",
      "[Skaffold] 4058ae03fa32: Preparing\n",
      "[Skaffold] e3437c61d457: Preparing\n",
      "[Skaffold] 84ff92691f90: Preparing\n",
      "[Skaffold] 54b00d861a7a: Preparing\n",
      "[Skaffold] c547358928ab: Preparing\n",
      "[Skaffold] 84ff92691f90: Preparing\n",
      "[Skaffold] c4e66be694ce: Preparing\n",
      "[Skaffold] 47cc65c6dd57: Preparing\n",
      "[Skaffold] 7d985a940d09: Waiting\n",
      "[Skaffold] 4058ae03fa32: Waiting\n",
      "[Skaffold] e3437c61d457: Waiting\n",
      "[Skaffold] 84ff92691f90: Waiting\n",
      "[Skaffold] 54b00d861a7a: Waiting\n",
      "[Skaffold] c547358928ab: Waiting\n",
      "[Skaffold] c4e66be694ce: Waiting\n",
      "[Skaffold] 47cc65c6dd57: Waiting\n",
      "[Skaffold] 7ed3e18de502: Waiting\n",
      "[Skaffold] fd335a0d8c48: Waiting\n",
      "[Skaffold] 0359e5914c61: Layer already exists\n",
      "[Skaffold] 23b988d0a368: Layer already exists\n",
      "[Skaffold] a0fdd9e79e13: Layer already exists\n",
      "[Skaffold] 7ed3e18de502: Layer already exists\n",
      "[Skaffold] 7d985a940d09: Layer already exists\n",
      "[Skaffold] fd335a0d8c48: Layer already exists\n",
      "[Skaffold] 4058ae03fa32: Layer already exists\n",
      "[Skaffold] e3437c61d457: Layer already exists\n",
      "[Skaffold] 84ff92691f90: Layer already exists\n",
      "[Skaffold] 54b00d861a7a: Layer already exists\n",
      "[Skaffold] c547358928ab: Layer already exists\n",
      "[Skaffold] c4e66be694ce: Layer already exists\n",
      "[Skaffold] 47cc65c6dd57: Layer already exists\n",
      "[Skaffold] 8ee0a2a93118: Pushed\n",
      "[Skaffold] e20c4460c8c2: Pushed\n",
      "[Skaffold] latest: digest: sha256:0a30d4ce65113693c3140b7d5996ee572988f2c4e2b5d3c3bfbde8925691232d size: 3693\n",
      "New container image is built. Target image is available in the build spec file.\n",
      "2021-02-18 00:42:09.290362: W tensorflow/stream_executor/platform/default/dso_loader.cc:59] Could not load dynamic library 'libcudart.so.10.1'; dlerror: libcudart.so.10.1: cannot open shared object file: No such file or directory; LD_LIBRARY_PATH: /usr/local/cuda/lib64:/usr/local/nccl2/lib:/usr/local/cuda/extras/CUPTI/lib64\n",
      "2021-02-18 00:42:09.290412: I tensorflow/stream_executor/cuda/cudart_stub.cc:29] Ignore above cudart dlerror if you do not have a GPU set up on your machine.\n",
      "WARNING:absl:RuntimeParameter is only supported on Cloud-based DAG runner currently.\n",
      "INFO:absl:Excluding no splits because exclude_splits is not set.\n",
      "INFO:absl:Excluding no splits because exclude_splits is not set.\n",
      "INFO:absl:Excluding no splits because exclude_splits is not set.\n",
      "WARNING:absl:`instance_name` is deprecated, please set the node id directly using `with_id()` or the `.id` setter.\n",
      "INFO:absl:Adding upstream dependencies for component ImportExampleGen\n",
      "INFO:absl:Adding upstream dependencies for component ResolverNode_latest_blessed_model_resolver\n",
      "INFO:absl:Adding upstream dependencies for component StatisticsGen\n",
      "INFO:absl:   ->  Component: ImportExampleGen\n",
      "INFO:absl:Adding upstream dependencies for component SchemaGen\n",
      "INFO:absl:   ->  Component: StatisticsGen\n",
      "INFO:absl:Adding upstream dependencies for component ExampleValidator\n",
      "INFO:absl:   ->  Component: StatisticsGen\n",
      "INFO:absl:   ->  Component: SchemaGen\n",
      "INFO:absl:Adding upstream dependencies for component Transform\n",
      "INFO:absl:   ->  Component: ImportExampleGen\n",
      "INFO:absl:   ->  Component: SchemaGen\n",
      "INFO:absl:Adding upstream dependencies for component Trainer\n",
      "INFO:absl:   ->  Component: SchemaGen\n",
      "INFO:absl:   ->  Component: Transform\n",
      "INFO:absl:Adding upstream dependencies for component Evaluator\n",
      "INFO:absl:   ->  Component: ImportExampleGen\n",
      "INFO:absl:   ->  Component: Trainer\n",
      "INFO:absl:   ->  Component: ResolverNode_latest_blessed_model_resolver\n",
      "\u001b[0mPipeline compiled successfully.\n",
      "Pipeline package path: /home/jupyter/imported/imdb_pipeline/nlp-pipeline.tar.gz\n",
      "{'code_source_url': None,\n",
      " 'created_at': datetime.datetime(2021, 2, 18, 0, 42, 13, tzinfo=tzlocal()),\n",
      " 'id': '95f70e40-80ab-4928-ab2e-e1b720a449d1',\n",
      " 'name': 'nlp-pipeline_20210218004212',\n",
      " 'package_url': None,\n",
      " 'parameters': [{'name': 'pipeline-root',\n",
      "                 'value': 'gs://tfx-imdb/tfx_pipeline_output/nlp-pipeline'}],\n",
      " 'resource_references': [{'key': {'id': '93d94d6e-297d-4214-be9e-bfa6e717862b',\n",
      "                                  'type': 'PIPELINE'},\n",
      "                          'name': None,\n",
      "                          'relationship': 'OWNER'}]}\n",
      "Please access the pipeline detail page at http://a54241532c2d68a-dot-us-central2.pipelines.googleusercontent.com/#/pipelines/details/93d94d6e-297d-4214-be9e-bfa6e717862b\n",
      "Pipeline \"nlp-pipeline\" updated successfully.\n",
      "2021-02-18 00:42:14.226768: W tensorflow/stream_executor/platform/default/dso_loader.cc:59] Could not load dynamic library 'libcudart.so.10.1'; dlerror: libcudart.so.10.1: cannot open shared object file: No such file or directory; LD_LIBRARY_PATH: /usr/local/cuda/lib64:/usr/local/nccl2/lib:/usr/local/cuda/extras/CUPTI/lib64\n",
      "2021-02-18 00:42:14.226815: I tensorflow/stream_executor/cuda/cudart_stub.cc:29] Ignore above cudart dlerror if you do not have a GPU set up on your machine.\n",
      "CLI\n",
      "Creating a run for pipeline: nlp-pipeline\n",
      "Detected Kubeflow.\n",
      "Use --engine flag if you intend to use a different orchestrator.\n",
      "Run created for pipeline: nlp-pipeline\n",
      "+-----------------+--------------------------------------+----------+---------------------------+----------------------------------------------------------------------------------------------------------------------------+\n",
      "| pipeline_name   | run_id                               | status   | created_at                | link                                                                                                                       |\n",
      "+=================+======================================+==========+===========================+============================================================================================================================+\n",
      "| nlp-pipeline    | c68d33d5-e73f-48fd-ae44-5face1721f10 |          | 2021-02-18T00:42:17+00:00 | http://a54241532c2d68a-dot-us-central2.pipelines.googleusercontent.com/#/runs/details/c68d33d5-e73f-48fd-ae44-5face1721f10 |\n",
      "+-----------------+--------------------------------------+----------+---------------------------+----------------------------------------------------------------------------------------------------------------------------+\n"
     ]
    }
   ],
   "source": [
    "!tfx pipeline update \\\n",
    "--pipeline-path=kubeflow_runner.py \\\n",
    "--endpoint={ENDPOINT}\n",
    "!tfx run create --pipeline-name {PIPELINE_NAME} --endpoint={ENDPOINT}"
   ]
  },
  {
   "cell_type": "code",
   "execution_count": null,
   "metadata": {},
   "outputs": [],
   "source": []
  },
  {
   "cell_type": "markdown",
   "metadata": {
    "colab_type": "text",
    "id": "ksWfVQUnMYCX"
   },
   "source": [
    "When this execution run finishes successfully, you have now created and run your first TFX pipeline in AI Platform Pipelines!\n",
    "\n",
    "**NOTE:** You might have noticed that every time we create a pipeline run, every component runs again and again even though the input and the parameters were not changed.\n",
    "It is waste of time and resources, and you can skip those executions with pipeline caching. You can enable caching by specifying `enable_cache=True` for the `Pipeline` object in `pipeline.py`.\n"
   ]
  },
  {
   "cell_type": "markdown",
   "metadata": {
    "colab_type": "text",
    "id": "BkoIMUfj0ol2"
   },
   "source": [
    "You can find your training jobs in [Cloud AI Platform Jobs](https://console.cloud.google.com/ai-platform/jobs). If your pipeline completed successfully, you can find your model in [Cloud AI Platform Models](https://console.cloud.google.com/ai-platform/models)."
   ]
  },
  {
   "cell_type": "markdown",
   "metadata": {
    "colab_type": "text",
    "id": "4DRTFdTy0ol3"
   },
   "source": [
    "## Step 10. Ingest YOUR data to the pipeline\n",
    "\n",
    "We made a pipeline for a model using the Chicago Taxi dataset. Now it's time to put your data into the pipeline.\n",
    "\n",
    "Your data can be stored anywhere your pipeline can access, including GCS, or BigQuery. You will need to modify the pipeline definition to access your data.\n",
    "\n",
    "1. If your data is stored in files, modify the `DATA_PATH` in `kubeflow_runner.py` or `local_runner.py` and set it to the location of your files. If your data is stored in BigQuery, modify `BIG_QUERY_QUERY` in `pipeline/configs.py` to correctly query for your data.\n",
    "1. Add features in `models/features.py`.\n",
    "1. Modify `models/preprocessing.py` to [transform input data for training](https://www.tensorflow.org/tfx/guide/transform).\n",
    "1. Modify `models/keras/model.py` and `models/keras/constants.py` to [describe your ML model](https://www.tensorflow.org/tfx/guide/trainer).\n",
    "  - You can use an estimator based model, too. Change `RUN_FN` constant to `models.estimator.model.run_fn` in `pipeline/configs.py`.\n",
    "\n",
    "Please see [Trainer component guide](https://www.tensorflow.org/tfx/guide/trainer) for more introduction."
   ]
  },
  {
   "cell_type": "markdown",
   "metadata": {
    "colab_type": "text",
    "id": "20KRGsPX0ol3"
   },
   "source": [
    "## Cleaning up\n",
    "\n",
    "To clean up all Google Cloud resources used in this project, you can [delete the Google Cloud project](https://cloud.google.com/resource-manager/docs/creating-managing-projects#shutting_down_projects) you used for the tutorial.\n",
    "\n",
    "Alternatively, you can clean up individual resources by visiting each consoles:\n",
    "- [Google Cloud Storage](https://console.cloud.google.com/storage)\n",
    "- [Google Container Registry](https://console.cloud.google.com/gcr)\n",
    "- [Google Kubernetes Engine](https://console.cloud.google.com/kubernetes)\n"
   ]
  }
 ],
 "metadata": {
  "colab": {
   "collapsed_sections": [],
   "name": "template.ipynb",
   "provenance": [],
   "toc_visible": true
  },
  "environment": {
   "name": "tf2-gpu.2-4.mnightly-2021-02-02-debian-10-test",
   "type": "gcloud",
   "uri": "gcr.io/deeplearning-platform-release/tf2-gpu.2-4:mnightly-2021-02-02-debian-10-test"
  },
  "kernelspec": {
   "display_name": "Python 3",
   "language": "python",
   "name": "python3"
  },
  "language_info": {
   "codemirror_mode": {
    "name": "ipython",
    "version": 3
   },
   "file_extension": ".py",
   "mimetype": "text/x-python",
   "name": "python",
   "nbconvert_exporter": "python",
   "pygments_lexer": "ipython3",
   "version": "3.7.9"
  }
 },
 "nbformat": 4,
 "nbformat_minor": 4
}