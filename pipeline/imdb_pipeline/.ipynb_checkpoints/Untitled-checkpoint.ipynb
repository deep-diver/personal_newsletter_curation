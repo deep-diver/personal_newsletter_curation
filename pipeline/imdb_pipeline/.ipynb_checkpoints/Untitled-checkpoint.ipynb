{
 "cells": [
  {
   "cell_type": "code",
   "execution_count": 1,
   "id": "forward-liability",
   "metadata": {},
   "outputs": [
    {
     "name": "stdout",
     "output_type": "stream",
     "text": [
      "Writing bert.py\n"
     ]
    }
   ],
   "source": [
    "%%writefile bert.py\n",
    "\n",
    "import tensorflow_hub as hub\n",
    "\n",
    "BERT_TFHUB_URL = \"https://tfhub.dev/tensorflow/bert_en_uncased_L-12_H-768_A-12/3\"\n",
    "\n",
    "def load_bert_layer(model_url=BERT_TFHUB_URL):\n",
    "    # Load the pre-trained BERT model as layer in Keras\n",
    "    bert_layer = hub.KerasLayer(handle=model_url, trainable=False)\n",
    "    return bert_layer"
   ]
  },
  {
   "cell_type": "code",
   "execution_count": null,
   "id": "unknown-detroit",
   "metadata": {},
   "outputs": [],
   "source": []
  }
 ],
 "metadata": {
  "environment": {
   "name": "tf2-gpu.2-4.mnightly-2021-02-02-debian-10-test",
   "type": "gcloud",
   "uri": "gcr.io/deeplearning-platform-release/tf2-gpu.2-4:mnightly-2021-02-02-debian-10-test"
  },
  "kernelspec": {
   "display_name": "Python 3",
   "language": "python",
   "name": "python3"
  },
  "language_info": {
   "codemirror_mode": {
    "name": "ipython",
    "version": 3
   },
   "file_extension": ".py",
   "mimetype": "text/x-python",
   "name": "python",
   "nbconvert_exporter": "python",
   "pygments_lexer": "ipython3",
   "version": "3.7.9"
  }
 },
 "nbformat": 4,
 "nbformat_minor": 5
}
